{
 "cells": [
  {
   "cell_type": "code",
   "execution_count": 6,
   "id": "bcc2e592-f176-4f71-98f6-100a76756417",
   "metadata": {},
   "outputs": [
    {
     "ename": "IndentationError",
     "evalue": "expected an indented block (uk_carbon_to_db.py, line 20)",
     "output_type": "error",
     "traceback": [
      "Traceback \u001b[0;36m(most recent call last)\u001b[0m:\n",
      "  File \u001b[1;32m\"/usr/local/lib/python3.8/site-packages/IPython/core/interactiveshell.py\"\u001b[0m, line \u001b[1;32m3444\u001b[0m, in \u001b[1;35mrun_code\u001b[0m\n    exec(code_obj, self.user_global_ns, self.user_ns)\n",
      "  File \u001b[1;32m\"/tmp/ipykernel_22/1430455490.py\"\u001b[0m, line \u001b[1;32m6\u001b[0m, in \u001b[1;35m<module>\u001b[0m\n    from viadot.tasks import StatsToDF\n",
      "\u001b[0;36m  File \u001b[0;32m\"/home/viadot/viadot/tasks/__init__.py\"\u001b[0;36m, line \u001b[0;32m26\u001b[0;36m, in \u001b[0;35m<module>\u001b[0;36m\u001b[0m\n\u001b[0;31m    from .uk_carbon_to_db import StatsToDF\u001b[0m\n",
      "\u001b[0;36m  File \u001b[0;32m\"/home/viadot/viadot/tasks/uk_carbon_to_db.py\"\u001b[0;36m, line \u001b[0;32m20\u001b[0m\n\u001b[0;31m    def run(self, df: pd.DataFrame, days_back: int = 1):\u001b[0m\n\u001b[0m    ^\u001b[0m\n\u001b[0;31mIndentationError\u001b[0m\u001b[0;31m:\u001b[0m expected an indented block\n"
     ]
    }
   ],
   "source": [
    "import pandas as pd\n",
    "import sqlite3\n",
    "con = sqlite3.connect('carbon.db')\n",
    "cur = con.cursor()\n",
    "\n",
    "from viadot.tasks import StatsToDF\n",
    "\n",
    "task = SupermetricsToDF()  # initialize\n",
    "task.run(self,df,1)  # run"
   ]
  },
  {
   "cell_type": "code",
   "execution_count": null,
   "id": "01b95c8a-6a47-4f04-8722-12d5f568e5d9",
   "metadata": {},
   "outputs": [],
   "source": []
  }
 ],
 "metadata": {
  "kernelspec": {
   "display_name": "Python 3 (ipykernel)",
   "language": "python",
   "name": "python3"
  },
  "language_info": {
   "codemirror_mode": {
    "name": "ipython",
    "version": 3
   },
   "file_extension": ".py",
   "mimetype": "text/x-python",
   "name": "python",
   "nbconvert_exporter": "python",
   "pygments_lexer": "ipython3",
   "version": "3.8.12"
  }
 },
 "nbformat": 4,
 "nbformat_minor": 5
}
